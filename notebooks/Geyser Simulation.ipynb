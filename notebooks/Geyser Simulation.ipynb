{
 "cells": [
  {
   "cell_type": "markdown",
   "metadata": {},
   "source": [
    "# Which Geyser Gushes First?\n",
    "http://fivethirtyeight.com/features/which-geyser-gushes-first/\n",
    "\n",
    "You arrive at the beautiful Three Geysers National Park. You read a placard explaining that the three eponymous geysers — creatively named A, B and C — erupt at intervals of precisely two hours, four hours and six hours, respectively. However, you just got there, so you have no idea how the three eruptions are staggered. Assuming they each started erupting at some independently random point in history, what are the probabilities that A, B and C, respectively, will be the first to erupt after your arrival?"
   ]
  },
  {
   "cell_type": "code",
   "execution_count": 1,
   "metadata": {
    "collapsed": false
   },
   "outputs": [],
   "source": [
    "from __future__ import division\n",
    "import numpy as np\n",
    "from collections import defaultdict"
   ]
  },
  {
   "cell_type": "code",
   "execution_count": 2,
   "metadata": {
    "collapsed": true
   },
   "outputs": [],
   "source": [
    "rng = np.random.RandomState(seed=1337)"
   ]
  },
  {
   "cell_type": "code",
   "execution_count": 3,
   "metadata": {
    "collapsed": false
   },
   "outputs": [],
   "source": [
    "def geyser_iteration(intervals):\n",
    "    \"\"\"Iteration of the probablistic geyser scenario.\n",
    "    \n",
    "    Parameters\n",
    "    ----------\n",
    "    intervals : dict, optional\n",
    "        The intervals that geysers erupt with identifier as dictionary key, default dict(a=2.0, b=4.0, c=6.0).\n",
    "        \n",
    "    Returns\n",
    "    -------\n",
    "    res : Identifier of the geyser that erupted first.\n",
    "    \"\"\"\n",
    "    starts = {k: rng.uniform(high=interval) for k, interval in intervals.iteritems()}\n",
    "    max_interval = np.max(intervals.values())\n",
    "    \n",
    "    time_arrival = rng.uniform(high=max_interval)\n",
    "    \n",
    "    def bests():\n",
    "        for k, interval in intervals.iteritems():\n",
    "            eruptions = np.arange(starts[k], max_interval + interval,  interval)\n",
    "            xs = eruptions - time_arrival\n",
    "            yield k, xs[xs > 0].min()\n",
    "\n",
    "    res, _ = reduce(lambda x, y: x if x[1] < y[1] else y, bests())\n",
    "    return res"
   ]
  },
  {
   "cell_type": "code",
   "execution_count": 4,
   "metadata": {
    "collapsed": true
   },
   "outputs": [],
   "source": [
    "def geyser_simulation(iterations=10000, intervals=dict(a=2.0, b=4.0, c=6.0)):\n",
    "    \"\"\"Run the simulation to estimate the probability of each geyser's eruption.\n",
    "    \n",
    "    Parameters\n",
    "    ----------\n",
    "    iterations : int, optional\n",
    "        Number of iterations to execute for the simulation.\n",
    "    \n",
    "    intervals : dict, optional\n",
    "        The intervals that geyser erupts, default dict(a=2.0, b=4.0, c=6.0).\n",
    "    \n",
    "    Returns\n",
    "    -------\n",
    "    probabilities : dict\n",
    "        Probability of each geyser erupting first.\n",
    "    \"\"\"\n",
    "    results = defaultdict(int)\n",
    "    for _ in range(iterations):\n",
    "        results[geyser_iteration(intervals)] += 1\n",
    "    return {a: b / iterations for a, b in results.iteritems()}"
   ]
  },
  {
   "cell_type": "code",
   "execution_count": 5,
   "metadata": {
    "collapsed": false
   },
   "outputs": [
    {
     "data": {
      "text/plain": [
       "{'a': 0.6467, 'b': 0.2137, 'c': 0.1396}"
      ]
     },
     "execution_count": 5,
     "metadata": {},
     "output_type": "execute_result"
    }
   ],
   "source": [
    "geyser_simulation(iterations=10000, intervals=dict(a=2.0, b=4.0, c=6.0))"
   ]
  },
  {
   "cell_type": "code",
   "execution_count": null,
   "metadata": {
    "collapsed": true
   },
   "outputs": [],
   "source": []
  }
 ],
 "metadata": {
  "kernelspec": {
   "display_name": "Python 2",
   "language": "python",
   "name": "python2"
  },
  "language_info": {
   "codemirror_mode": {
    "name": "ipython",
    "version": 2
   },
   "file_extension": ".py",
   "mimetype": "text/x-python",
   "name": "python",
   "nbconvert_exporter": "python",
   "pygments_lexer": "ipython2",
   "version": "2.7.10"
  }
 },
 "nbformat": 4,
 "nbformat_minor": 0
}
